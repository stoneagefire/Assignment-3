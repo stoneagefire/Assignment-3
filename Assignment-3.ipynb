{
 "cells": [
  {
   "cell_type": "markdown",
   "metadata": {},
   "source": [
    "<h3>Assignment 3 </h3><br>\n",
    "<b>Registration id - SIRSS1055<br>\n",
    "Name - Soham Patel<br>\n",
    "College name - ISTAR <br></b>"
   ]
  },
  {
   "cell_type": "markdown",
   "metadata": {},
   "source": [
    "<h3>Write a function to return nth term of Fibonacci sequence."
   ]
  },
  {
   "cell_type": "code",
   "execution_count": 28,
   "metadata": {},
   "outputs": [
    {
     "name": "stdout",
     "output_type": "stream",
     "text": [
      "Enter term value : 10\n",
      "10th term of Fibonacci sequence is 55.\n"
     ]
    }
   ],
   "source": [
    "def fibo(num):\n",
    "    a = 0\n",
    "    b = 1\n",
    "    c = 0\n",
    "    fiboList = []\n",
    "    fiboList.append(a)\n",
    "    fiboList.append(b)\n",
    "    for i in range(num):\n",
    "        c = a + b\n",
    "        fiboList.append(c)\n",
    "        a = b\n",
    "        b = c\n",
    "    return fiboList[num]\n",
    "\n",
    "n = int(input(\"Enter term value : \"))\n",
    "print(\"%dth term of Fibonacci sequence is %d.\"%(n,fibo(n)))        "
   ]
  },
  {
   "cell_type": "markdown",
   "metadata": {},
   "source": [
    "<h3> Write a function to find out GCD of two numbers using EUCLID'S algorithm."
   ]
  },
  {
   "cell_type": "code",
   "execution_count": 29,
   "metadata": {},
   "outputs": [
    {
     "name": "stdout",
     "output_type": "stream",
     "text": [
      "Value 1 : 90\n",
      "Value 2 : 50\n",
      "GCD of 90 and 50 is 10.\n"
     ]
    }
   ],
   "source": [
    "def gcd(a, b):\n",
    "    if a == 0 :\n",
    "        return b\n",
    "    return gcd(b%a, a)\n",
    "\n",
    "n1 = int(input(\"Value 1 : \"))\n",
    "n2 = int(input(\"Value 2 : \"))\n",
    "print(\"GCD of %d and %d is %d.\"%(n1,n2,gcd(n1,n2)))"
   ]
  },
  {
   "cell_type": "markdown",
   "metadata": {},
   "source": [
    "<h3>Write a function to find LCM of two number in most optimizers way."
   ]
  },
  {
   "cell_type": "code",
   "execution_count": 30,
   "metadata": {},
   "outputs": [
    {
     "name": "stdout",
     "output_type": "stream",
     "text": [
      "Enter value 1 : 10\n",
      "Enter value 2 : 13\n",
      "LCM is : 130\n"
     ]
    }
   ],
   "source": [
    "def lcm(a, b):\n",
    "    n1 = a\n",
    "    n2 = b\n",
    "    while n2!=n1:\n",
    "        if n2 > n1:\n",
    "            n1 += a\n",
    "        else:\n",
    "            n2 += b\n",
    "    return n2\n",
    "\n",
    "a = int(input(\"Enter value 1 : \"))\n",
    "b = int(input(\"Enter value 2 : \"))\n",
    "print(\"LCM is :\",lcm(a,b))"
   ]
  }
 ],
 "metadata": {
  "kernelspec": {
   "display_name": "Python 3",
   "language": "python",
   "name": "python3"
  },
  "language_info": {
   "codemirror_mode": {
    "name": "ipython",
    "version": 3
   },
   "file_extension": ".py",
   "mimetype": "text/x-python",
   "name": "python",
   "nbconvert_exporter": "python",
   "pygments_lexer": "ipython3",
   "version": "3.8.3"
  }
 },
 "nbformat": 4,
 "nbformat_minor": 4
}
